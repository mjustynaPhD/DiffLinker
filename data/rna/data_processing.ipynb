{
 "cells": [
  {
   "cell_type": "code",
   "execution_count": 1,
   "metadata": {},
   "outputs": [],
   "source": [
    "%load_ext autoreload"
   ]
  },
  {
   "cell_type": "code",
   "execution_count": 5,
   "metadata": {},
   "outputs": [
    {
     "name": "stdout",
     "output_type": "stream",
     "text": [
      "True Residue(label=None, auth=ResidueAuth(chain='A', number=3, icode=None, name='G')) Residue(label=None, auth=ResidueAuth(chain='A', number=16, icode=None, name='C'))\n",
      "A.G3\n",
      "A.C16\n",
      "False Residue(label=None, auth=ResidueAuth(chain='A', number=3, icode=None, name='G')) Residue(label=None, auth=ResidueAuth(chain='A', number=20, icode=None, name='A'))\n",
      "True Residue(label=None, auth=ResidueAuth(chain='A', number=4, icode=None, name='C')) Residue(label=None, auth=ResidueAuth(chain='A', number=15, icode=None, name='G'))\n",
      "A.C4\n",
      "A.G15\n",
      "True Residue(label=None, auth=ResidueAuth(chain='A', number=5, icode=None, name='G')) Residue(label=None, auth=ResidueAuth(chain='A', number=14, icode=None, name='C'))\n",
      "A.G5\n",
      "A.C14\n",
      "True Residue(label=None, auth=ResidueAuth(chain='A', number=6, icode=None, name='G')) Residue(label=None, auth=ResidueAuth(chain='A', number=13, icode=None, name='C'))\n",
      "A.G6\n",
      "A.C13\n",
      "False Residue(label=None, auth=ResidueAuth(chain='A', number=6, icode=None, name='G')) Residue(label=None, auth=ResidueAuth(chain='A', number=24, icode=None, name='A'))\n",
      "False Residue(label=None, auth=ResidueAuth(chain='A', number=7, icode=None, name='C')) Residue(label=None, auth=ResidueAuth(chain='A', number=11, icode=None, name='G'))\n",
      "A.C7\n",
      "A.G11\n",
      "True Residue(label=None, auth=ResidueAuth(chain='A', number=9, icode=None, name='C')) Residue(label=None, auth=ResidueAuth(chain='A', number=28, icode=None, name='G'))\n",
      "A.C9\n",
      "A.G28\n",
      "True Residue(label=None, auth=ResidueAuth(chain='A', number=10, icode=None, name='C')) Residue(label=None, auth=ResidueAuth(chain='A', number=27, icode=None, name='G'))\n",
      "A.C10\n",
      "A.G27\n",
      "False Residue(label=None, auth=ResidueAuth(chain='A', number=11, icode=None, name='G')) Residue(label=None, auth=ResidueAuth(chain='A', number=12, icode=None, name='U'))\n",
      "True Residue(label=None, auth=ResidueAuth(chain='A', number=11, icode=None, name='G')) Residue(label=None, auth=ResidueAuth(chain='A', number=26, icode=None, name='C'))\n",
      "A.G11\n",
      "A.C26\n",
      "False Residue(label=None, auth=ResidueAuth(chain='A', number=13, icode=None, name='C')) Residue(label=None, auth=ResidueAuth(chain='A', number=25, icode=None, name='A'))\n",
      "False Residue(label=None, auth=ResidueAuth(chain='A', number=14, icode=None, name='C')) Residue(label=None, auth=ResidueAuth(chain='A', number=23, icode=None, name='A'))\n",
      "False Residue(label=None, auth=ResidueAuth(chain='A', number=15, icode=None, name='G')) Residue(label=None, auth=ResidueAuth(chain='A', number=21, icode=None, name='A'))\n"
     ]
    }
   ],
   "source": [
    "from rnapolis.annotator import extract_secondary_structure\n",
    "from rnapolis.parser import read_3d_structure\n",
    "\n",
    "pdb_path = \"/data/3d/input_data/pdbs/2A43_1_A.pdb\"\n",
    "\n",
    "# read 3d structure\n",
    "with open(pdb_path) as f:\n",
    "    structure3d = read_3d_structure(f, 1)\n",
    "    structure2d = extract_secondary_structure(structure3d, 1)\n",
    "\n",
    "interest_res = []\n",
    "interest_bps = []\n",
    "for bp in structure2d.basePairs:\n",
    "    bp_type = bp.saenger.is_canonical if bp.saenger is not None else False\n",
    "    print(bp_type, bp.nt1, bp.nt2)\n",
    "    if bp_type and bp.nt1.name == 'G' or bp.nt2.name == 'G':\n",
    "        print(f\"{bp.nt1.chain}.{bp.nt1.name}{bp.nt1.number}\")\n",
    "        print(f\"{bp.nt2.chain}.{bp.nt2.name}{bp.nt2.number}\")\n",
    "        bp1 = f\"{bp.nt1.chain}.{bp.nt1.name}{bp.nt1.number}\"\n",
    "        bp2 = f\"{bp.nt2.chain}.{bp.nt2.name}{bp.nt2.number}\"\n",
    "        interest_res.append(bp1)\n",
    "        interest_res.append(bp2)\n",
    "        interest_bps.append((bp1, bp2))\n",
    "    # if not bp_type:\n",
    "    #     print(bp_type, bp.nt1, bp.nt2)\n",
    "    #     print(f\"{bp.nt1.chain}.{bp.nt1.name}{bp.nt1.number}\")\n",
    "    #     print(f\"{bp.nt2.chain}.{bp.nt2.name}{bp.nt2.number}\")\n",
    "    #     bp1 = f\"{bp.nt1.chain}.{bp.nt1.name}{bp.nt1.number}\"\n",
    "    #     bp2 = f\"{bp.nt2.chain}.{bp.nt2.name}{bp.nt2.number}\"\n",
    "    #     interest_res.append(bp1)\n",
    "    #     interest_res.append(bp2)\n",
    "    #     interest_bps.append((bp1, bp2))"
   ]
  },
  {
   "cell_type": "code",
   "execution_count": 6,
   "metadata": {},
   "outputs": [
    {
     "name": "stdout",
     "output_type": "stream",
     "text": [
      "A.G3\n",
      "A.C4\n",
      "A.G5\n",
      "A.G6\n",
      "A.C7\n",
      "A.C9\n",
      "A.C10\n",
      "A.G11\n",
      "A.C13\n",
      "A.C14\n",
      "A.G15\n",
      "A.C16\n",
      "A.C26\n",
      "A.G27\n",
      "A.G28\n"
     ]
    },
    {
     "name": "stderr",
     "output_type": "stream",
     "text": [
      "/data/miniconda3/envs/difflinker/lib/python3.10/site-packages/Bio/PDB/PDBParser.py:395: PDBConstructionWarning: Ignoring unrecognized record 'END' at line 574\n",
      "  warnings.warn(\n"
     ]
    }
   ],
   "source": [
    "from Bio.PDB import *\n",
    "\n",
    "residues = {}\n",
    "# Read the pdb file\n",
    "parser = PDBParser()\n",
    "structure = parser.get_structure('pdb', pdb_path)\n",
    "for residue in structure.get_residues():\n",
    "    # print(f\"{residue.get_segid().strip()}.{residue.get_resname()}{residue.get_id()[1]}\")\n",
    "    # print(next(residue.get_atoms()).get_coord())\n",
    "    res = f\"{residue.get_full_id()[2]}.{residue.get_resname()}{residue.get_id()[1]}\"\n",
    "    \n",
    "    if res in interest_res:\n",
    "        print(res)\n",
    "        residues[res] = residue"
   ]
  },
  {
   "cell_type": "code",
   "execution_count": 8,
   "metadata": {},
   "outputs": [
    {
     "name": "stdout",
     "output_type": "stream",
     "text": [
      "('A.G3', 'A.C16')\n",
      "('A.C4', 'A.G15')\n",
      "('A.G5', 'A.C14')\n",
      "('A.G6', 'A.C13')\n",
      "('A.C7', 'A.G11')\n",
      "('A.C9', 'A.G28')\n",
      "('A.C10', 'A.G27')\n",
      "('A.G11', 'A.C26')\n"
     ]
    }
   ],
   "source": [
    "def save_as_new_pdb(residues, output_file):\n",
    "    structure = Structure.Structure('pdb')\n",
    "    model = Model.Model(0)\n",
    "    chain = Chain.Chain('A')\n",
    "    model.add(chain)\n",
    "    structure.add(model)\n",
    "\n",
    "    # add the residues to the structure\n",
    "    for residue in residues:\n",
    "        chain.add(residue)\n",
    "\n",
    "    # write the new pdb file\n",
    "    io = PDBIO()\n",
    "    io.set_structure(structure)\n",
    "    io.save(output_file)\n",
    "\n",
    "for i, bps in enumerate(interest_bps):\n",
    "    print(bps)\n",
    "    sel_res = [residues[bps[0]], residues[bps[1]]]\n",
    "    save_as_new_pdb(sel_res, f\"my_out{i}.pdb\")"
   ]
  },
  {
   "cell_type": "code",
   "execution_count": 32,
   "metadata": {},
   "outputs": [],
   "source": [
    "%autoreload 2\n",
    "from data_processing import pdb_transform, get_one_hot"
   ]
  },
  {
   "cell_type": "code",
   "execution_count": 28,
   "metadata": {},
   "outputs": [],
   "source": [
    "transformed = pdb_transform(sel_res, pdb_path)\n"
   ]
  },
  {
   "cell_type": "code",
   "execution_count": 39,
   "metadata": {},
   "outputs": [],
   "source": [
    "# save transformed to *.pt file\n",
    "import torch\n",
    "name = 'rna_v1_train.pt'\n",
    "# torch.save([transformed], name)"
   ]
  },
  {
   "cell_type": "code",
   "execution_count": 41,
   "metadata": {},
   "outputs": [
    {
     "data": {
      "text/plain": [
       "dict_keys(['uuid', 'name', 'positions', 'one_hot', 'fragment_mask', 'linker_mask', 'num_atoms', 'anchors', 'charges'])"
      ]
     },
     "execution_count": 41,
     "metadata": {},
     "output_type": "execute_result"
    }
   ],
   "source": [
    "import torch\n",
    "pt_data = torch.load(name)\n",
    "pt_data[0].keys()"
   ]
  },
  {
   "cell_type": "code",
   "execution_count": 44,
   "metadata": {},
   "outputs": [
    {
     "name": "stdout",
     "output_type": "stream",
     "text": [
      "7WKP_1_B_0\n",
      "7WKP_1_B_1\n",
      "7WKP_1_B_2\n"
     ]
    }
   ],
   "source": [
    "for a in pt_data:\n",
    "    print(a['name'])"
   ]
  },
  {
   "cell_type": "code",
   "execution_count": null,
   "metadata": {},
   "outputs": [
    {
     "name": "stdout",
     "output_type": "stream",
     "text": [
      "P 3\n",
      "C5' 0\n",
      "O5' 2\n",
      "C4' 0\n",
      "O4' 2\n",
      "C3' 0\n",
      "O3' 2\n",
      "C2' 0\n",
      "O2' 2\n",
      "C1' 0\n",
      "N1 1\n",
      "C2 0\n",
      "O2 2\n",
      "N3 1\n",
      "C4 0\n",
      "O4 2\n",
      "C5 0\n",
      "C6 0\n",
      "OP1 2\n",
      "OP2 2\n",
      "P 3\n",
      "C5' 0\n",
      "O5' 2\n",
      "C4' 0\n",
      "O4' 2\n",
      "C3' 0\n",
      "O3' 2\n",
      "C2' 0\n",
      "O2' 2\n",
      "C1' 0\n",
      "N1 1\n",
      "C2 0\n",
      "O2 2\n",
      "N3 1\n",
      "C4 0\n",
      "O4 2\n",
      "C5 0\n",
      "C6 0\n",
      "OP1 2\n",
      "OP2 2\n"
     ]
    }
   ],
   "source": [
    "atoms = get_atoms(sel_res)\n",
    "one_hot = get_one_hot(sel_res)\n",
    "coding = {}\n",
    "idx_atom = {}\n",
    "simple_idx_atom = {}\n",
    "for a, oh in zip(atoms, one_hot):\n",
    "    print(a, np.argmax(oh))\n",
    "    coding[a[0]] = np.argmax(oh)\n",
    "    idx_atom[np.argmax(oh)] = a[0]\n",
    "    simple_idx_atom[np.argmax(oh)] = a[0]"
   ]
  },
  {
   "cell_type": "code",
   "execution_count": null,
   "metadata": {},
   "outputs": [
    {
     "data": {
      "text/plain": [
       "{3: 'P', 0: 'C', 2: 'O', 1: 'N'}"
      ]
     },
     "execution_count": 13,
     "metadata": {},
     "output_type": "execute_result"
    }
   ],
   "source": [
    "simple_idx_atom"
   ]
  },
  {
   "cell_type": "code",
   "execution_count": null,
   "metadata": {},
   "outputs": [
    {
     "data": {
      "text/plain": [
       "{'P': 3, 'C': 0, 'O': 2, 'N': 1}"
      ]
     },
     "execution_count": 14,
     "metadata": {},
     "output_type": "execute_result"
    }
   ],
   "source": [
    "coding"
   ]
  },
  {
   "cell_type": "code",
   "execution_count": null,
   "metadata": {},
   "outputs": [],
   "source": []
  }
 ],
 "metadata": {
  "kernelspec": {
   "display_name": "difflinker",
   "language": "python",
   "name": "python3"
  },
  "language_info": {
   "codemirror_mode": {
    "name": "ipython",
    "version": 3
   },
   "file_extension": ".py",
   "mimetype": "text/x-python",
   "name": "python",
   "nbconvert_exporter": "python",
   "pygments_lexer": "ipython3",
   "version": "3.10.5"
  },
  "orig_nbformat": 4
 },
 "nbformat": 4,
 "nbformat_minor": 2
}
