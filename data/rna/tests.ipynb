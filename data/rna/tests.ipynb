{
 "cells": [
  {
   "cell_type": "code",
   "execution_count": 25,
   "metadata": {},
   "outputs": [],
   "source": [
    "import torch\n",
    "import pandas as pd\n",
    "table_path = \"/data/3d/DiffLinker/datasets/zinc_final_train_table.csv\"\n",
    "pt_data_path = \"/data/3d/DiffLinker/datasets/zinc_final_test.pt\""
   ]
  },
  {
   "cell_type": "code",
   "execution_count": 11,
   "metadata": {},
   "outputs": [],
   "source": [
    "df = pd.read_csv(table_path)"
   ]
  },
  {
   "cell_type": "code",
   "execution_count": 12,
   "metadata": {},
   "outputs": [
    {
     "data": {
      "text/html": [
       "<div>\n",
       "<style scoped>\n",
       "    .dataframe tbody tr th:only-of-type {\n",
       "        vertical-align: middle;\n",
       "    }\n",
       "\n",
       "    .dataframe tbody tr th {\n",
       "        vertical-align: top;\n",
       "    }\n",
       "\n",
       "    .dataframe thead th {\n",
       "        text-align: right;\n",
       "    }\n",
       "</style>\n",
       "<table border=\"1\" class=\"dataframe\">\n",
       "  <thead>\n",
       "    <tr style=\"text-align: right;\">\n",
       "      <th></th>\n",
       "      <th>uuid</th>\n",
       "      <th>molecule</th>\n",
       "      <th>fragments</th>\n",
       "      <th>linker</th>\n",
       "      <th>anchor_1</th>\n",
       "      <th>anchor_2</th>\n",
       "      <th>energy</th>\n",
       "      <th>idx</th>\n",
       "      <th>keep</th>\n",
       "    </tr>\n",
       "  </thead>\n",
       "  <tbody>\n",
       "    <tr>\n",
       "      <th>0</th>\n",
       "      <td>0</td>\n",
       "      <td>CC(C)(C)c1ccc2occ(CC(=O)Nc3ccccc3F)c2c1</td>\n",
       "      <td>CC(C)(C)c1ccc2occc2c1.Fc1ccccc1</td>\n",
       "      <td>CC(N)=O</td>\n",
       "      <td>10</td>\n",
       "      <td>19</td>\n",
       "      <td>80.069266</td>\n",
       "      <td>0</td>\n",
       "      <td>True</td>\n",
       "    </tr>\n",
       "    <tr>\n",
       "      <th>1</th>\n",
       "      <td>1</td>\n",
       "      <td>CC(C)(C)c1ccc2occ(CC(=O)Nc3ccccc3F)c2c1</td>\n",
       "      <td>Cc1coc2ccc(C(C)(C)C)cc12.Fc1ccccc1</td>\n",
       "      <td>NC=O</td>\n",
       "      <td>11</td>\n",
       "      <td>20</td>\n",
       "      <td>80.069266</td>\n",
       "      <td>1</td>\n",
       "      <td>True</td>\n",
       "    </tr>\n",
       "    <tr>\n",
       "      <th>2</th>\n",
       "      <td>30</td>\n",
       "      <td>C[C@@H]1CC(Nc2cncc(-c3nncn3C)c2)C[C@@H](C)C1</td>\n",
       "      <td>C[C@@H]1CC(N)C[C@@H](C)C1.Cn1cnnc1</td>\n",
       "      <td>c1ccncc1</td>\n",
       "      <td>4</td>\n",
       "      <td>14</td>\n",
       "      <td>75.601229</td>\n",
       "      <td>30</td>\n",
       "      <td>True</td>\n",
       "    </tr>\n",
       "    <tr>\n",
       "      <th>3</th>\n",
       "      <td>45</td>\n",
       "      <td>N#Cc1ccc(-c2ccc(O[C@@H](C(=O)N3CCCC3)c3ccccc3)...</td>\n",
       "      <td>N#Cc1ccccc1.O=C(Cc1ccccc1)N1CCCC1</td>\n",
       "      <td>Oc1ccccc1</td>\n",
       "      <td>5</td>\n",
       "      <td>10</td>\n",
       "      <td>57.110877</td>\n",
       "      <td>45</td>\n",
       "      <td>True</td>\n",
       "    </tr>\n",
       "    <tr>\n",
       "      <th>4</th>\n",
       "      <td>46</td>\n",
       "      <td>N#Cc1ccc(-c2ccc(O[C@@H](C(=O)N3CCCC3)c3ccccc3)...</td>\n",
       "      <td>N#Cc1ccccc1.O=C([C@H](O)c1ccccc1)N1CCCC1</td>\n",
       "      <td>c1ccccc1</td>\n",
       "      <td>5</td>\n",
       "      <td>11</td>\n",
       "      <td>57.110877</td>\n",
       "      <td>46</td>\n",
       "      <td>True</td>\n",
       "    </tr>\n",
       "  </tbody>\n",
       "</table>\n",
       "</div>"
      ],
      "text/plain": [
       "   uuid                                           molecule  \\\n",
       "0     0            CC(C)(C)c1ccc2occ(CC(=O)Nc3ccccc3F)c2c1   \n",
       "1     1            CC(C)(C)c1ccc2occ(CC(=O)Nc3ccccc3F)c2c1   \n",
       "2    30       C[C@@H]1CC(Nc2cncc(-c3nncn3C)c2)C[C@@H](C)C1   \n",
       "3    45  N#Cc1ccc(-c2ccc(O[C@@H](C(=O)N3CCCC3)c3ccccc3)...   \n",
       "4    46  N#Cc1ccc(-c2ccc(O[C@@H](C(=O)N3CCCC3)c3ccccc3)...   \n",
       "\n",
       "                                  fragments     linker  anchor_1  anchor_2  \\\n",
       "0           CC(C)(C)c1ccc2occc2c1.Fc1ccccc1    CC(N)=O        10        19   \n",
       "1        Cc1coc2ccc(C(C)(C)C)cc12.Fc1ccccc1       NC=O        11        20   \n",
       "2        C[C@@H]1CC(N)C[C@@H](C)C1.Cn1cnnc1   c1ccncc1         4        14   \n",
       "3         N#Cc1ccccc1.O=C(Cc1ccccc1)N1CCCC1  Oc1ccccc1         5        10   \n",
       "4  N#Cc1ccccc1.O=C([C@H](O)c1ccccc1)N1CCCC1   c1ccccc1         5        11   \n",
       "\n",
       "      energy  idx  keep  \n",
       "0  80.069266    0  True  \n",
       "1  80.069266    1  True  \n",
       "2  75.601229   30  True  \n",
       "3  57.110877   45  True  \n",
       "4  57.110877   46  True  "
      ]
     },
     "execution_count": 12,
     "metadata": {},
     "output_type": "execute_result"
    }
   ],
   "source": [
    "df.head()"
   ]
  },
  {
   "cell_type": "code",
   "execution_count": 26,
   "metadata": {},
   "outputs": [],
   "source": [
    "# load pytorch data stored as *.pt partially\n",
    "pt_data = torch.load(pt_data_path, map_location=lambda storage, loc: storage)"
   ]
  },
  {
   "cell_type": "code",
   "execution_count": 30,
   "metadata": {},
   "outputs": [
    {
     "data": {
      "text/plain": [
       "dict_keys(['uuid', 'name', 'positions', 'one_hot', 'charges', 'anchors', 'fragment_mask', 'linker_mask', 'num_atoms'])"
      ]
     },
     "execution_count": 30,
     "metadata": {},
     "output_type": "execute_result"
    }
   ],
   "source": [
    "pt_data[0].keys()"
   ]
  },
  {
   "cell_type": "code",
   "execution_count": 31,
   "metadata": {},
   "outputs": [
    {
     "data": {
      "text/plain": [
       "torch.Size([26, 3])"
      ]
     },
     "execution_count": 31,
     "metadata": {},
     "output_type": "execute_result"
    }
   ],
   "source": [
    "pt_data[0]['positions'].shape"
   ]
  },
  {
   "cell_type": "code",
   "execution_count": 34,
   "metadata": {},
   "outputs": [
    {
     "name": "stdout",
     "output_type": "stream",
     "text": [
      "torch.Size([26])\n",
      "torch.Size([26])\n",
      "26\n"
     ]
    }
   ],
   "source": [
    "print(pt_data[0]['linker_mask'].shape)\n",
    "print(pt_data[0]['fragment_mask'].shape)\n",
    "print(pt_data[0]['num_atoms'])"
   ]
  },
  {
   "cell_type": "code",
   "execution_count": 40,
   "metadata": {},
   "outputs": [
    {
     "name": "stdout",
     "output_type": "stream",
     "text": [
      "tensor([0., 0., 0., 1., 0., 0., 0., 0., 0., 0., 0., 0., 0., 0., 0., 0., 0., 1.,\n",
      "        0., 0., 0., 0., 0., 0., 0., 0.])\n",
      "torch.Size([26, 8])\n",
      "Cc1ccc(CCNC(=O)NCCc2csc(N3CCCC3)n2)c(C)c1\n"
     ]
    }
   ],
   "source": [
    "print(pt_data[0]['anchors'])\n",
    "print(pt_data[0]['one_hot'].shape)\n",
    "print(pt_data[0]['name'])\n"
   ]
  },
  {
   "cell_type": "code",
   "execution_count": 41,
   "metadata": {},
   "outputs": [
    {
     "name": "stdout",
     "output_type": "stream",
     "text": [
      "tensor([ 6.,  6.,  6.,  7.,  6.,  6.,  6.,  6.,  6.,  6.,  6.,  6.,  7.,  6.,\n",
      "         8.,  7.,  6.,  6.,  6.,  6.,  6.,  6., 16.,  6.,  7.,  6.])\n"
     ]
    }
   ],
   "source": [
    "print(pt_data[0]['charges'])"
   ]
  },
  {
   "cell_type": "code",
   "execution_count": null,
   "metadata": {},
   "outputs": [],
   "source": []
  }
 ],
 "metadata": {
  "kernelspec": {
   "display_name": "difflinker",
   "language": "python",
   "name": "python3"
  },
  "language_info": {
   "codemirror_mode": {
    "name": "ipython",
    "version": 3
   },
   "file_extension": ".py",
   "mimetype": "text/x-python",
   "name": "python",
   "nbconvert_exporter": "python",
   "pygments_lexer": "ipython3",
   "version": "3.10.5"
  },
  "orig_nbformat": 4
 },
 "nbformat": 4,
 "nbformat_minor": 2
}
